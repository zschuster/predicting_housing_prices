{
 "cells": [
  {
   "cell_type": "markdown",
   "source": [
    "## After finding a final algorithm using a train and test set, should you build your model on all available data or just training data?\n",
    "\n",
    "Author: Zach Schuster <br> 2019-11-22\n",
    "***\n",
    "\n",
    "I was recently having a conversation with colleagues [Mark Ewing](https://github.com/bmewing) and Christine Grassi regarding whether or not you should fit a final model on just training data or all available data (train and test data). Hopefully this notebook helps answer the question.\n",
    "\n",
    "The idea of the this \"experiment\" is fairly simple:\n",
    "* Create a train, test, validation split (validation will act as new data to evaluate the final models)\n",
    "* Run 10 fold CV to determine if a random forest or linear regression should be used\n",
    "    * No strong reason for these two models other than keeping it simple\n",
    "* Train two final models\n",
    "    * One model will be trained on only the training data\n",
    "    * One model will be trained on the train and test data\n",
    "* Evaluate the models on the validation data "
   ],
   "metadata": {
    "collapsed": false
   }
  },
  {
   "cell_type": "code",
   "execution_count": 1,
   "metadata": {
    "collapsed": true,
    "pycharm": {
     "is_executing": false
    }
   },
   "outputs": [],
   "source": [
    "import pandas as pd\n",
    "import numpy as np\n",
    "from sklearn.metrics import mean_absolute_error, make_scorer\n",
    "from sklearn.ensemble import RandomForestRegressor\n",
    "from sklearn.linear_model import LinearRegression\n",
    "from sklearn.model_selection import train_test_split, cross_val_score"
   ]
  },
  {
   "cell_type": "code",
   "execution_count": 2,
   "outputs": [
    {
     "name": "stdout",
     "text": [
      "training data original dimensions: (1460, 81)\n"
     ],
     "output_type": "stream"
    }
   ],
   "source": [
    "train_data = pd.read_csv('../data/train.csv')\n",
    "print('training data original dimensions: {}'.format(train_data.shape))"
   ],
   "metadata": {
    "collapsed": false,
    "pycharm": {
     "name": "#%%\n",
     "is_executing": false
    }
   }
  },
  {
   "cell_type": "markdown",
   "source": [
    "We will take only non null numeric columns for the simplicity of this analysis."
   ],
   "metadata": {
    "collapsed": false
   }
  },
  {
   "cell_type": "code",
   "execution_count": 3,
   "outputs": [],
   "source": [
    "train_data.dropna(axis=1, inplace=True)\n",
    "train_data = train_data.select_dtypes(include=np.number)\n",
    "\n",
    "# remove id column\n",
    "train_data.drop(columns=['Id'], inplace=True)"
   ],
   "metadata": {
    "collapsed": false,
    "pycharm": {
     "name": "#%%\n",
     "is_executing": false
    }
   }
  },
  {
   "cell_type": "markdown",
   "source": [
    "we will use the `train_test_split` function to create a train, test, validation set with a split of (50, 30, 20). To verify my logic below, $.8 * .375 = .3$, which leaves 50% of the data for training."
   ],
   "metadata": {
    "collapsed": false,
    "pycharm": {
     "name": "#%% md\n"
    }
   }
  },
  {
   "cell_type": "code",
   "execution_count": 4,
   "outputs": [],
   "source": [
    "to_split, validation = train_test_split(train_data, test_size=.2, random_state=27)\n",
    "train, test = train_test_split(to_split, test_size=.375, random_state=27)"
   ],
   "metadata": {
    "collapsed": false,
    "pycharm": {
     "name": "#%%\n",
     "is_executing": false
    }
   }
  },
  {
   "cell_type": "markdown",
   "source": [
    "Create X and y training variables for train, test, and validation sets"
   ],
   "metadata": {
    "collapsed": false,
    "pycharm": {
     "name": "#%% md\n"
    }
   }
  },
  {
   "cell_type": "code",
   "execution_count": 5,
   "outputs": [],
   "source": [
    "x_train = train.loc[:, train.columns != 'SalePrice']\n",
    "y_train = train.loc[:, 'SalePrice']\n",
    "\n",
    "x_train_test = to_split.loc[:, to_split.columns != 'SalePrice']\n",
    "y_train_test = to_split.loc[:, 'SalePrice']\n",
    "\n",
    "x_val = validation.loc[:, validation.columns != 'SalePrice']\n",
    "y_val = validation.loc[:, 'SalePrice']"
   ],
   "metadata": {
    "collapsed": false,
    "pycharm": {
     "name": "#%%\n",
     "is_executing": false
    }
   }
  },
  {
   "cell_type": "markdown",
   "source": [
    "To use mean absolute error during CV, we can create a scorer using the `make_scorer` function."
   ],
   "metadata": {
    "collapsed": false,
    "pycharm": {
     "name": "#%% md\n"
    }
   }
  },
  {
   "cell_type": "code",
   "execution_count": 6,
   "outputs": [],
   "source": [
    "mae_scorer = make_scorer(mean_absolute_error)"
   ],
   "metadata": {
    "collapsed": false,
    "pycharm": {
     "name": "#%%\n",
     "is_executing": false
    }
   }
  },
  {
   "cell_type": "code",
   "execution_count": 7,
   "outputs": [
    {
     "name": "stdout",
     "text": [
      "Random Forest CV MAE: 19305.812270580565\nLinear Regression CV MAE: 22307.177580429536\n"
     ],
     "output_type": "stream"
    }
   ],
   "source": [
    "rf = RandomForestRegressor(n_estimators=500)\n",
    "lr = LinearRegression()\n",
    "\n",
    "rf_score = cross_val_score(rf, X=x_train, y=y_train, cv=10, scoring=mae_scorer)\n",
    "lr_score = cross_val_score(lr, X=x_train, y=y_train, cv=10, scoring=mae_scorer)\n",
    "\n",
    "print('Random Forest CV MAE: {}'.format(np.mean(rf_score)))\n",
    "print('Linear Regression CV MAE: {}'.format(np.mean(lr_score)))"
   ],
   "metadata": {
    "collapsed": false,
    "pycharm": {
     "name": "#%%\n",
     "is_executing": false
    }
   }
  },
  {
   "cell_type": "markdown",
   "source": [
    "From the MAEs, it looks like random forest has a better generalization error than linear regression (not too surprising), so we will use random forest for all models going forward.\n",
    "\n",
    "Now it gets interesting. The two main approaches that can be taken are to:\n",
    "1. train the algorithm on the training set and use that as a final model\n",
    "2. train the algorithm on a combination of the train and test sets (which is all the data available to us) and use that as the final model\n",
    "\n",
    "The second method is being trained on more information, but does it run the risk of poorly generalizing to new data (our validation set)? "
   ],
   "metadata": {
    "collapsed": false,
    "pycharm": {
     "name": "#%% md\n"
    }
   }
  },
  {
   "cell_type": "code",
   "execution_count": 8,
   "outputs": [
    {
     "name": "stdout",
     "text": [
      "\n"
     ],
     "output_type": "stream"
    }
   ],
   "source": [
    "# train on training data\n",
    "rf_train = RandomForestRegressor(n_estimators=500)\n",
    "rf_train.fit(x_train, y_train)\n",
    "\n",
    "# train on combination of train and test data\n",
    "rf_all = RandomForestRegressor(n_estimators=500)\n",
    "rf_all.fit(x_train_test, y_train_test)\n",
    "\n",
    "# avoid unwanted output\n",
    "print('')"
   ],
   "metadata": {
    "collapsed": false,
    "pycharm": {
     "name": "#%%\n",
     "is_executing": false
    }
   }
  },
  {
   "cell_type": "markdown",
   "source": [
    "Finally, we can generate predictions and evaluate performance on the validation data."
   ],
   "metadata": {
    "collapsed": false,
    "pycharm": {
     "name": "#%% md\n"
    }
   }
  },
  {
   "cell_type": "code",
   "execution_count": 9,
   "outputs": [
    {
     "name": "stdout",
     "text": [
      "MAE when trained on only train data: 18482.00240410959\nMAE when trained on combination of train and test data: 17991.74179452055\n"
     ],
     "output_type": "stream"
    }
   ],
   "source": [
    "rf_train_preds = rf_train.predict(x_val)\n",
    "rf_all_preds = rf_all.predict(x_val)\n",
    "\n",
    "print('MAE when trained on only train data: {}'.format(mean_absolute_error(y_val, rf_train_preds)))\n",
    "print('MAE when trained on combination of train and test data: {}'.format(mean_absolute_error(y_val, rf_all_preds)))\n"
   ],
   "metadata": {
    "collapsed": false,
    "pycharm": {
     "name": "#%%\n",
     "is_executing": false
    }
   }
  },
  {
   "cell_type": "markdown",
   "source": [
    "## So what do we make of it?\n",
    "From the results, the model trained on all of the available data was able to generalize better to new information! The results were not drastically different, but this does provide some evidence for training a final model using all available data.\n"
   ],
   "metadata": {
    "collapsed": false,
    "pycharm": {
     "name": "#%% md\n"
    }
   }
  }
 ],
 "metadata": {
  "kernelspec": {
   "display_name": "Python 3",
   "language": "python",
   "name": "python3"
  },
  "language_info": {
   "codemirror_mode": {
    "name": "ipython",
    "version": 2
   },
   "file_extension": ".py",
   "mimetype": "text/x-python",
   "name": "python",
   "nbconvert_exporter": "python",
   "pygments_lexer": "ipython2",
   "version": "2.7.6"
  },
  "pycharm": {
   "stem_cell": {
    "cell_type": "raw",
    "source": [],
    "metadata": {
     "collapsed": false
    }
   }
  }
 },
 "nbformat": 4,
 "nbformat_minor": 0
}
